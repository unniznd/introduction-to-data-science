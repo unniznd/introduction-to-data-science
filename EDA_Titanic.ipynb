{
  "nbformat": 4,
  "nbformat_minor": 0,
  "metadata": {
    "kernelspec": {
      "display_name": "Python 3",
      "language": "python",
      "name": "python3"
    },
    "language_info": {
      "codemirror_mode": {
        "name": "ipython",
        "version": 3
      },
      "file_extension": ".py",
      "mimetype": "text/x-python",
      "name": "python",
      "nbconvert_exporter": "python",
      "pygments_lexer": "ipython3",
      "version": "3.6.5"
    },
    "colab": {
      "name": "EDA Titanic.ipynb",
      "provenance": [],
      "collapsed_sections": []
    }
  },
  "cells": [
    {
      "cell_type": "markdown",
      "metadata": {
        "id": "nPFzV8bDZoZi"
      },
      "source": [
        "\n",
        "# EDA on Titanic Data Set from Kaggle\n",
        "\n",
        "![](data:image/jpeg;base64,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)\n",
        "\n",
        "For this lecture we will be working with the [Titanic Data Set from Kaggle](https://www.kaggle.com/c/titanic). This is a very famous data set and very often is a student's first step in machine learning! \n",
        "\n",
        "\n",
        "We'll use a \"semi-cleaned\" version of the titanic data set, if you use the data set hosted directly on Kaggle, you may need to do some additional cleaning not shown in this lecture notebook.\n"
      ]
    },
    {
      "cell_type": "code",
      "metadata": {
        "id": "PwsyxWwCZoZz"
      },
      "source": [
        "import pandas as pd\n",
        "import numpy as np\n",
        "import matplotlib.pyplot as plt\n",
        "import seaborn as sns\n",
        "%matplotlib inline"
      ],
      "execution_count": 35,
      "outputs": []
    },
    {
      "cell_type": "code",
      "source": [
        "from google.colab import drive\n",
        "drive.mount('/content/drive')"
      ],
      "metadata": {
        "colab": {
          "base_uri": "https://localhost:8080/"
        },
        "id": "4aOU246I8NU0",
        "outputId": "b5a6e211-80d9-4723-fecf-34e070dbc2a9"
      },
      "execution_count": 36,
      "outputs": [
        {
          "output_type": "stream",
          "name": "stdout",
          "text": [
            "Drive already mounted at /content/drive; to attempt to forcibly remount, call drive.mount(\"/content/drive\", force_remount=True).\n"
          ]
        }
      ]
    },
    {
      "cell_type": "markdown",
      "metadata": {
        "id": "Uv6xVag0ZoZ5"
      },
      "source": [
        "## The Data\n",
        "\n",
        "Let's start by reading in the titanic_train.csv file into a pandas dataframe."
      ]
    },
    {
      "cell_type": "code",
      "metadata": {
        "id": "7TiXiyPrZoZ6"
      },
      "source": [
        "path = \"/content/drive/MyDrive/GDSC Data Science Bootcamp/Data-Analysis-Python/Datasets/titanic_train.csv\"\n",
        "train = pd.read_csv(path)"
      ],
      "execution_count": 37,
      "outputs": []
    },
    {
      "cell_type": "code",
      "metadata": {
        "colab": {
          "base_uri": "https://localhost:8080/",
          "height": 206
        },
        "id": "EDGuiaLWZoZ7",
        "outputId": "71541aaa-05e5-4467-dee7-be9a135c26a1"
      },
      "source": [
        "train.head()"
      ],
      "execution_count": 38,
      "outputs": [
        {
          "output_type": "execute_result",
          "data": {
            "text/html": [
              "<div>\n",
              "<style scoped>\n",
              "    .dataframe tbody tr th:only-of-type {\n",
              "        vertical-align: middle;\n",
              "    }\n",
              "\n",
              "    .dataframe tbody tr th {\n",
              "        vertical-align: top;\n",
              "    }\n",
              "\n",
              "    .dataframe thead th {\n",
              "        text-align: right;\n",
              "    }\n",
              "</style>\n",
              "<table border=\"1\" class=\"dataframe\">\n",
              "  <thead>\n",
              "    <tr style=\"text-align: right;\">\n",
              "      <th></th>\n",
              "      <th>PassengerId</th>\n",
              "      <th>Survived</th>\n",
              "      <th>Pclass</th>\n",
              "      <th>Name</th>\n",
              "      <th>Sex</th>\n",
              "      <th>Age</th>\n",
              "      <th>SibSp</th>\n",
              "      <th>Parch</th>\n",
              "      <th>Ticket</th>\n",
              "      <th>Fare</th>\n",
              "      <th>Cabin</th>\n",
              "      <th>Embarked</th>\n",
              "    </tr>\n",
              "  </thead>\n",
              "  <tbody>\n",
              "    <tr>\n",
              "      <th>0</th>\n",
              "      <td>1</td>\n",
              "      <td>0</td>\n",
              "      <td>3</td>\n",
              "      <td>Braund, Mr. Owen Harris</td>\n",
              "      <td>male</td>\n",
              "      <td>22.0</td>\n",
              "      <td>1</td>\n",
              "      <td>0</td>\n",
              "      <td>A/5 21171</td>\n",
              "      <td>7.2500</td>\n",
              "      <td>NaN</td>\n",
              "      <td>S</td>\n",
              "    </tr>\n",
              "    <tr>\n",
              "      <th>1</th>\n",
              "      <td>2</td>\n",
              "      <td>1</td>\n",
              "      <td>1</td>\n",
              "      <td>Cumings, Mrs. John Bradley (Florence Briggs Th...</td>\n",
              "      <td>female</td>\n",
              "      <td>38.0</td>\n",
              "      <td>1</td>\n",
              "      <td>0</td>\n",
              "      <td>PC 17599</td>\n",
              "      <td>71.2833</td>\n",
              "      <td>C85</td>\n",
              "      <td>C</td>\n",
              "    </tr>\n",
              "    <tr>\n",
              "      <th>2</th>\n",
              "      <td>3</td>\n",
              "      <td>1</td>\n",
              "      <td>3</td>\n",
              "      <td>Heikkinen, Miss. Laina</td>\n",
              "      <td>female</td>\n",
              "      <td>26.0</td>\n",
              "      <td>0</td>\n",
              "      <td>0</td>\n",
              "      <td>STON/O2. 3101282</td>\n",
              "      <td>7.9250</td>\n",
              "      <td>NaN</td>\n",
              "      <td>S</td>\n",
              "    </tr>\n",
              "    <tr>\n",
              "      <th>3</th>\n",
              "      <td>4</td>\n",
              "      <td>1</td>\n",
              "      <td>1</td>\n",
              "      <td>Futrelle, Mrs. Jacques Heath (Lily May Peel)</td>\n",
              "      <td>female</td>\n",
              "      <td>35.0</td>\n",
              "      <td>1</td>\n",
              "      <td>0</td>\n",
              "      <td>113803</td>\n",
              "      <td>53.1000</td>\n",
              "      <td>C123</td>\n",
              "      <td>S</td>\n",
              "    </tr>\n",
              "    <tr>\n",
              "      <th>4</th>\n",
              "      <td>5</td>\n",
              "      <td>0</td>\n",
              "      <td>3</td>\n",
              "      <td>Allen, Mr. William Henry</td>\n",
              "      <td>male</td>\n",
              "      <td>35.0</td>\n",
              "      <td>0</td>\n",
              "      <td>0</td>\n",
              "      <td>373450</td>\n",
              "      <td>8.0500</td>\n",
              "      <td>NaN</td>\n",
              "      <td>S</td>\n",
              "    </tr>\n",
              "  </tbody>\n",
              "</table>\n",
              "</div>"
            ],
            "text/plain": [
              "   PassengerId  Survived  Pclass  ...     Fare Cabin  Embarked\n",
              "0            1         0       3  ...   7.2500   NaN         S\n",
              "1            2         1       1  ...  71.2833   C85         C\n",
              "2            3         1       3  ...   7.9250   NaN         S\n",
              "3            4         1       1  ...  53.1000  C123         S\n",
              "4            5         0       3  ...   8.0500   NaN         S\n",
              "\n",
              "[5 rows x 12 columns]"
            ]
          },
          "metadata": {},
          "execution_count": 38
        }
      ]
    },
    {
      "cell_type": "code",
      "metadata": {
        "colab": {
          "base_uri": "https://localhost:8080/"
        },
        "id": "6skRG1-dDyc6",
        "outputId": "f8eb2283-7273-4644-c168-79f74af96f86"
      },
      "source": [
        "train.shape"
      ],
      "execution_count": 39,
      "outputs": [
        {
          "output_type": "execute_result",
          "data": {
            "text/plain": [
              "(891, 12)"
            ]
          },
          "metadata": {},
          "execution_count": 39
        }
      ]
    },
    {
      "cell_type": "markdown",
      "metadata": {
        "id": "g-MPxZ2QZoZ9"
      },
      "source": [
        "# Exploratory Data Analysis\n",
        "\n",
        "Let's begin some exploratory data analysis! We'll start by checking out missing data!\n",
        "\n",
        "## Missing Data\n",
        "\n",
        "We can use seaborn to create a simple heatmap to see where we are missing data!"
      ]
    },
    {
      "cell_type": "code",
      "metadata": {
        "colab": {
          "base_uri": "https://localhost:8080/"
        },
        "id": "BfkOIQd0ZoZ-",
        "outputId": "3874d59b-3d42-44ae-d4f4-582070d5f168"
      },
      "source": [
        "train.isnull().sum()"
      ],
      "execution_count": 40,
      "outputs": [
        {
          "output_type": "execute_result",
          "data": {
            "text/plain": [
              "PassengerId      0\n",
              "Survived         0\n",
              "Pclass           0\n",
              "Name             0\n",
              "Sex              0\n",
              "Age            177\n",
              "SibSp            0\n",
              "Parch            0\n",
              "Ticket           0\n",
              "Fare             0\n",
              "Cabin          687\n",
              "Embarked         2\n",
              "dtype: int64"
            ]
          },
          "metadata": {},
          "execution_count": 40
        }
      ]
    },
    {
      "cell_type": "code",
      "metadata": {
        "colab": {
          "base_uri": "https://localhost:8080/",
          "height": 333
        },
        "id": "yZOBhhquZoZ_",
        "outputId": "207815c9-ebdf-477b-a62c-5a33982b7713"
      },
      "source": [
        "sns.heatmap(train.isnull(),yticklabels=False,cbar=False,cmap='viridis')"
      ],
      "execution_count": 41,
      "outputs": [
        {
          "output_type": "execute_result",
          "data": {
            "text/plain": [
              "<matplotlib.axes._subplots.AxesSubplot at 0x7ff01c9cf3d0>"
            ]
          },
          "metadata": {},
          "execution_count": 41
        },
        {
          "output_type": "display_data",
          "data": {
            "image/png": "[encoded data removed]",
            "text/plain": [
              "<Figure size 432x288 with 1 Axes>"
            ]
          },
          "metadata": {
            "needs_background": "light"
          }
        }
      ]
    },
    {
      "cell_type": "code",
      "metadata": {
        "colab": {
          "base_uri": "https://localhost:8080/",
          "height": 112
        },
        "id": "Q47pJwS66CPu",
        "outputId": "c0edd167-6090-4733-eb2c-75d1e68e9b87"
      },
      "source": [
        "train[train['Embarked'].isnull()]"
      ],
      "execution_count": 42,
      "outputs": [
        {
          "output_type": "execute_result",
          "data": {
            "text/html": [
              "<div>\n",
              "<style scoped>\n",
              "    .dataframe tbody tr th:only-of-type {\n",
              "        vertical-align: middle;\n",
              "    }\n",
              "\n",
              "    .dataframe tbody tr th {\n",
              "        vertical-align: top;\n",
              "    }\n",
              "\n",
              "    .dataframe thead th {\n",
              "        text-align: right;\n",
              "    }\n",
              "</style>\n",
              "<table border=\"1\" class=\"dataframe\">\n",
              "  <thead>\n",
              "    <tr style=\"text-align: right;\">\n",
              "      <th></th>\n",
              "      <th>PassengerId</th>\n",
              "      <th>Survived</th>\n",
              "      <th>Pclass</th>\n",
              "      <th>Name</th>\n",
              "      <th>Sex</th>\n",
              "      <th>Age</th>\n",
              "      <th>SibSp</th>\n",
              "      <th>Parch</th>\n",
              "      <th>Ticket</th>\n",
              "      <th>Fare</th>\n",
              "      <th>Cabin</th>\n",
              "      <th>Embarked</th>\n",
              "    </tr>\n",
              "  </thead>\n",
              "  <tbody>\n",
              "    <tr>\n",
              "      <th>61</th>\n",
              "      <td>62</td>\n",
              "      <td>1</td>\n",
              "      <td>1</td>\n",
              "      <td>Icard, Miss. Amelie</td>\n",
              "      <td>female</td>\n",
              "      <td>38.0</td>\n",
              "      <td>0</td>\n",
              "      <td>0</td>\n",
              "      <td>113572</td>\n",
              "      <td>80.0</td>\n",
              "      <td>B28</td>\n",
              "      <td>NaN</td>\n",
              "    </tr>\n",
              "    <tr>\n",
              "      <th>829</th>\n",
              "      <td>830</td>\n",
              "      <td>1</td>\n",
              "      <td>1</td>\n",
              "      <td>Stone, Mrs. George Nelson (Martha Evelyn)</td>\n",
              "      <td>female</td>\n",
              "      <td>62.0</td>\n",
              "      <td>0</td>\n",
              "      <td>0</td>\n",
              "      <td>113572</td>\n",
              "      <td>80.0</td>\n",
              "      <td>B28</td>\n",
              "      <td>NaN</td>\n",
              "    </tr>\n",
              "  </tbody>\n",
              "</table>\n",
              "</div>"
            ],
            "text/plain": [
              "     PassengerId  Survived  Pclass  ...  Fare Cabin  Embarked\n",
              "61            62         1       1  ...  80.0   B28       NaN\n",
              "829          830         1       1  ...  80.0   B28       NaN\n",
              "\n",
              "[2 rows x 12 columns]"
            ]
          },
          "metadata": {},
          "execution_count": 42
        }
      ]
    },
    {
      "cell_type": "markdown",
      "source": [
        "# Data visualization\n",
        "\n",
        "![](https://miro.medium.com/max/1000/1*WACiczYwdWTnJ94mnizS4Q.jpeg)"
      ],
      "metadata": {
        "id": "Rrt2knSwCjYm"
      }
    },
    {
      "cell_type": "markdown",
      "metadata": {
        "id": "k442yFm8bzL3"
      },
      "source": [
        "### seaborn heatmap [Documentation](https://seaborn.pydata.org/generated/seaborn.heatmap.html)"
      ]
    },
    {
      "cell_type": "markdown",
      "metadata": {
        "id": "Swhybl29ZoaA"
      },
      "source": [
        "Roughly some percent of the Age data is missing. The proportion of Age missing is likely small enough for reasonable replacement with some form of imputation. Looking at the Cabin column, it looks like we are just missing too much of that data to do something useful with at a basic level. We'll probably drop this later, or change it to another feature like \"Cabin Known: 1 or 0\"\n",
        "\n",
        "Let's continue on by visualizing some more of the data! Check out the video for full explanations over these plots, this code is just to serve as reference."
      ]
    },
    {
      "cell_type": "code",
      "metadata": {
        "colab": {
          "base_uri": "https://localhost:8080/",
          "height": 296
        },
        "id": "drPBfJJFZoaA",
        "outputId": "aadc522b-78f2-4fc6-fb05-7fcb859ad3b1"
      },
      "source": [
        "sns.countplot(x='Survived',data=train)"
      ],
      "execution_count": 43,
      "outputs": [
        {
          "output_type": "execute_result",
          "data": {
            "text/plain": [
              "<matplotlib.axes._subplots.AxesSubplot at 0x7ff01c92b250>"
            ]
          },
          "metadata": {},
          "execution_count": 43
        },
        {
          "output_type": "display_data",
          "data": {
            "image/png": "[encoded data removed]",
            "text/plain": [
              "<Figure size 432x288 with 1 Axes>"
            ]
          },
          "metadata": {
            "needs_background": "light"
          }
        }
      ]
    },
    {
      "cell_type": "code",
      "metadata": {
        "colab": {
          "base_uri": "https://localhost:8080/",
          "height": 296
        },
        "id": "_d9i_oAfZoaA",
        "outputId": "32370155-5c46-400c-910b-ca4c767f4b84"
      },
      "source": [
        "sns.countplot(x='Survived',hue='Sex',data=train)"
      ],
      "execution_count": 44,
      "outputs": [
        {
          "output_type": "execute_result",
          "data": {
            "text/plain": [
              "<matplotlib.axes._subplots.AxesSubplot at 0x7ff01c985190>"
            ]
          },
          "metadata": {},
          "execution_count": 44
        },
        {
          "output_type": "display_data",
          "data": {
            "image/png": "[encoded data removed]",
            "text/plain": [
              "<Figure size 432x288 with 1 Axes>"
            ]
          },
          "metadata": {
            "needs_background": "light"
          }
        }
      ]
    },
    {
      "cell_type": "code",
      "metadata": {
        "colab": {
          "base_uri": "https://localhost:8080/",
          "height": 296
        },
        "id": "Xrda-jJfZoaB",
        "outputId": "436451a9-b20e-41b4-ea1c-e01b00307041"
      },
      "source": [
        "sns.countplot(x='Survived',hue='Pclass',data=train)"
      ],
      "execution_count": 45,
      "outputs": [
        {
          "output_type": "execute_result",
          "data": {
            "text/plain": [
              "<matplotlib.axes._subplots.AxesSubplot at 0x7ff01c8d8ed0>"
            ]
          },
          "metadata": {},
          "execution_count": 45
        },
        {
          "output_type": "display_data",
          "data": {
            "image/png": "[encoded data removed]",
            "text/plain": [
              "<Figure size 432x288 with 1 Axes>"
            ]
          },
          "metadata": {
            "needs_background": "light"
          }
        }
      ]
    },
    {
      "cell_type": "code",
      "metadata": {
        "colab": {
          "base_uri": "https://localhost:8080/",
          "height": 351
        },
        "id": "7JTS01rQZoaB",
        "outputId": "0caed322-0d10-4a46-b6c7-9dc5eb1e74a7"
      },
      "source": [
        "sns.distplot(train['Age'].dropna(),color='red')"
      ],
      "execution_count": 70,
      "outputs": [
        {
          "output_type": "stream",
          "name": "stderr",
          "text": [
            "/usr/local/lib/python3.7/dist-packages/seaborn/distributions.py:2619: FutureWarning: `distplot` is a deprecated function and will be removed in a future version. Please adapt your code to use either `displot` (a figure-level function with similar flexibility) or `histplot` (an axes-level function for histograms).\n",
            "  warnings.warn(msg, FutureWarning)\n"
          ]
        },
        {
          "output_type": "execute_result",
          "data": {
            "text/plain": [
              "<matplotlib.axes._subplots.AxesSubplot at 0x7ff01c1ef510>"
            ]
          },
          "metadata": {},
          "execution_count": 70
        },
        {
          "output_type": "display_data",
          "data": {
            "image/png": "[encoded data removed]",
            "text/plain": [
              "<Figure size 432x288 with 1 Axes>"
            ]
          },
          "metadata": {
            "needs_background": "light"
          }
        }
      ]
    },
    {
      "cell_type": "code",
      "source": [
        "sns.distplot(train['Age'].dropna(),kde=False,color='green')"
      ],
      "metadata": {
        "colab": {
          "base_uri": "https://localhost:8080/",
          "height": 351
        },
        "id": "HGKNkknOBE-D",
        "outputId": "8ef04052-b2ca-4e36-b50d-989087d39460"
      },
      "execution_count": 71,
      "outputs": [
        {
          "output_type": "stream",
          "name": "stderr",
          "text": [
            "/usr/local/lib/python3.7/dist-packages/seaborn/distributions.py:2619: FutureWarning: `distplot` is a deprecated function and will be removed in a future version. Please adapt your code to use either `displot` (a figure-level function with similar flexibility) or `histplot` (an axes-level function for histograms).\n",
            "  warnings.warn(msg, FutureWarning)\n"
          ]
        },
        {
          "output_type": "execute_result",
          "data": {
            "text/plain": [
              "<matplotlib.axes._subplots.AxesSubplot at 0x7ff01c0ce510>"
            ]
          },
          "metadata": {},
          "execution_count": 71
        },
        {
          "output_type": "display_data",
          "data": {
            "image/png": "[encoded data removed]",
            "text/plain": [
              "<Figure size 432x288 with 1 Axes>"
            ]
          },
          "metadata": {
            "needs_background": "light"
          }
        }
      ]
    },
    {
      "cell_type": "code",
      "metadata": {
        "colab": {
          "base_uri": "https://localhost:8080/",
          "height": 296
        },
        "id": "EUMiQjGbZoaC",
        "outputId": "401e9c08-db92-45a6-a386-db73849427b2"
      },
      "source": [
        "sns.countplot(x='SibSp',data=train)"
      ],
      "execution_count": 48,
      "outputs": [
        {
          "output_type": "execute_result",
          "data": {
            "text/plain": [
              "<matplotlib.axes._subplots.AxesSubplot at 0x7ff01c6d9b50>"
            ]
          },
          "metadata": {},
          "execution_count": 48
        },
        {
          "output_type": "display_data",
          "data": {
            "image/png": "[encoded data removed]",
            "text/plain": [
              "<Figure size 432x288 with 1 Axes>"
            ]
          },
          "metadata": {
            "needs_background": "light"
          }
        }
      ]
    },
    {
      "cell_type": "code",
      "metadata": {
        "colab": {
          "base_uri": "https://localhost:8080/",
          "height": 284
        },
        "id": "7OZfEyJuZoaC",
        "outputId": "7c304db7-d892-4fcc-b294-0f7143db8d27"
      },
      "source": [
        "train['Fare'].hist(color='green',bins=40,figsize=(8,4))"
      ],
      "execution_count": 49,
      "outputs": [
        {
          "output_type": "execute_result",
          "data": {
            "text/plain": [
              "<matplotlib.axes._subplots.AxesSubplot at 0x7ff01c634250>"
            ]
          },
          "metadata": {},
          "execution_count": 49
        },
        {
          "output_type": "display_data",
          "data": {
            "image/png": "[encoded data removed]",
            "text/plain": [
              "<Figure size 576x288 with 1 Axes>"
            ]
          },
          "metadata": {
            "needs_background": "light"
          }
        }
      ]
    },
    {
      "cell_type": "markdown",
      "source": [
        "# Data cleaning\n",
        "\n",
        "![](data:image/jpeg;base64,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)"
      ],
      "metadata": {
        "id": "9g3tvpnLC9MV"
      }
    },
    {
      "cell_type": "markdown",
      "source": [
        "### Let's Handle Missing Data\n",
        " - fillna\n",
        "\n",
        " - dropna\n",
        "\n",
        " - interpolate"
      ],
      "metadata": {
        "id": "xqLpA0yjBa5C"
      }
    },
    {
      "cell_type": "markdown",
      "source": [
        "#### Let's fill Age column using `ffill`method in pandas"
      ],
      "metadata": {
        "id": "ALKQdiQJ_4Ip"
      }
    },
    {
      "cell_type": "code",
      "source": [
        "train = train.fillna(method=\"ffill\")\n",
        "train.head()"
      ],
      "metadata": {
        "colab": {
          "base_uri": "https://localhost:8080/",
          "height": 206
        },
        "id": "vnAwrMKA_4WB",
        "outputId": "e24a02e4-0fc9-4f61-f12d-18cc35c55505"
      },
      "execution_count": 63,
      "outputs": [
        {
          "output_type": "execute_result",
          "data": {
            "text/html": [
              "<div>\n",
              "<style scoped>\n",
              "    .dataframe tbody tr th:only-of-type {\n",
              "        vertical-align: middle;\n",
              "    }\n",
              "\n",
              "    .dataframe tbody tr th {\n",
              "        vertical-align: top;\n",
              "    }\n",
              "\n",
              "    .dataframe thead th {\n",
              "        text-align: right;\n",
              "    }\n",
              "</style>\n",
              "<table border=\"1\" class=\"dataframe\">\n",
              "  <thead>\n",
              "    <tr style=\"text-align: right;\">\n",
              "      <th></th>\n",
              "      <th>PassengerId</th>\n",
              "      <th>Survived</th>\n",
              "      <th>Pclass</th>\n",
              "      <th>Age</th>\n",
              "      <th>SibSp</th>\n",
              "      <th>Parch</th>\n",
              "      <th>Fare</th>\n",
              "      <th>male</th>\n",
              "      <th>Q</th>\n",
              "      <th>S</th>\n",
              "    </tr>\n",
              "  </thead>\n",
              "  <tbody>\n",
              "    <tr>\n",
              "      <th>0</th>\n",
              "      <td>1</td>\n",
              "      <td>0</td>\n",
              "      <td>3</td>\n",
              "      <td>22.0</td>\n",
              "      <td>1</td>\n",
              "      <td>0</td>\n",
              "      <td>7.2500</td>\n",
              "      <td>1</td>\n",
              "      <td>0</td>\n",
              "      <td>1</td>\n",
              "    </tr>\n",
              "    <tr>\n",
              "      <th>1</th>\n",
              "      <td>2</td>\n",
              "      <td>1</td>\n",
              "      <td>1</td>\n",
              "      <td>38.0</td>\n",
              "      <td>1</td>\n",
              "      <td>0</td>\n",
              "      <td>71.2833</td>\n",
              "      <td>0</td>\n",
              "      <td>0</td>\n",
              "      <td>0</td>\n",
              "    </tr>\n",
              "    <tr>\n",
              "      <th>2</th>\n",
              "      <td>3</td>\n",
              "      <td>1</td>\n",
              "      <td>3</td>\n",
              "      <td>26.0</td>\n",
              "      <td>0</td>\n",
              "      <td>0</td>\n",
              "      <td>7.9250</td>\n",
              "      <td>0</td>\n",
              "      <td>0</td>\n",
              "      <td>1</td>\n",
              "    </tr>\n",
              "    <tr>\n",
              "      <th>3</th>\n",
              "      <td>4</td>\n",
              "      <td>1</td>\n",
              "      <td>1</td>\n",
              "      <td>35.0</td>\n",
              "      <td>1</td>\n",
              "      <td>0</td>\n",
              "      <td>53.1000</td>\n",
              "      <td>0</td>\n",
              "      <td>0</td>\n",
              "      <td>1</td>\n",
              "    </tr>\n",
              "    <tr>\n",
              "      <th>4</th>\n",
              "      <td>5</td>\n",
              "      <td>0</td>\n",
              "      <td>3</td>\n",
              "      <td>35.0</td>\n",
              "      <td>0</td>\n",
              "      <td>0</td>\n",
              "      <td>8.0500</td>\n",
              "      <td>1</td>\n",
              "      <td>0</td>\n",
              "      <td>1</td>\n",
              "    </tr>\n",
              "  </tbody>\n",
              "</table>\n",
              "</div>"
            ],
            "text/plain": [
              "   PassengerId  Survived  Pclass   Age  SibSp  Parch     Fare  male  Q  S\n",
              "0            1         0       3  22.0      1      0   7.2500     1  0  1\n",
              "1            2         1       1  38.0      1      0  71.2833     0  0  0\n",
              "2            3         1       3  26.0      0      0   7.9250     0  0  1\n",
              "3            4         1       1  35.0      1      0  53.1000     0  0  1\n",
              "4            5         0       3  35.0      0      0   8.0500     1  0  1"
            ]
          },
          "metadata": {},
          "execution_count": 63
        }
      ]
    },
    {
      "cell_type": "markdown",
      "metadata": {
        "id": "B4y2LrBOZoaF"
      },
      "source": [
        "#### Great! Let's go ahead and drop the Cabin column "
      ]
    },
    {
      "cell_type": "code",
      "metadata": {
        "id": "jeFQ3HBhZoaH"
      },
      "source": [
        "train.drop('Cabin', axis=1, inplace=True)"
      ],
      "execution_count": 51,
      "outputs": []
    },
    {
      "cell_type": "code",
      "metadata": {
        "colab": {
          "base_uri": "https://localhost:8080/",
          "height": 206
        },
        "id": "G4eC2iH_ZoaH",
        "outputId": "44441c98-07b3-4e66-80cb-86b915e9de40"
      },
      "source": [
        "train.head()"
      ],
      "execution_count": 52,
      "outputs": [
        {
          "output_type": "execute_result",
          "data": {
            "text/html": [
              "<div>\n",
              "<style scoped>\n",
              "    .dataframe tbody tr th:only-of-type {\n",
              "        vertical-align: middle;\n",
              "    }\n",
              "\n",
              "    .dataframe tbody tr th {\n",
              "        vertical-align: top;\n",
              "    }\n",
              "\n",
              "    .dataframe thead th {\n",
              "        text-align: right;\n",
              "    }\n",
              "</style>\n",
              "<table border=\"1\" class=\"dataframe\">\n",
              "  <thead>\n",
              "    <tr style=\"text-align: right;\">\n",
              "      <th></th>\n",
              "      <th>PassengerId</th>\n",
              "      <th>Survived</th>\n",
              "      <th>Pclass</th>\n",
              "      <th>Name</th>\n",
              "      <th>Sex</th>\n",
              "      <th>Age</th>\n",
              "      <th>SibSp</th>\n",
              "      <th>Parch</th>\n",
              "      <th>Ticket</th>\n",
              "      <th>Fare</th>\n",
              "      <th>Embarked</th>\n",
              "    </tr>\n",
              "  </thead>\n",
              "  <tbody>\n",
              "    <tr>\n",
              "      <th>0</th>\n",
              "      <td>1</td>\n",
              "      <td>0</td>\n",
              "      <td>3</td>\n",
              "      <td>Braund, Mr. Owen Harris</td>\n",
              "      <td>male</td>\n",
              "      <td>22.0</td>\n",
              "      <td>1</td>\n",
              "      <td>0</td>\n",
              "      <td>A/5 21171</td>\n",
              "      <td>7.2500</td>\n",
              "      <td>S</td>\n",
              "    </tr>\n",
              "    <tr>\n",
              "      <th>1</th>\n",
              "      <td>2</td>\n",
              "      <td>1</td>\n",
              "      <td>1</td>\n",
              "      <td>Cumings, Mrs. John Bradley (Florence Briggs Th...</td>\n",
              "      <td>female</td>\n",
              "      <td>38.0</td>\n",
              "      <td>1</td>\n",
              "      <td>0</td>\n",
              "      <td>PC 17599</td>\n",
              "      <td>71.2833</td>\n",
              "      <td>C</td>\n",
              "    </tr>\n",
              "    <tr>\n",
              "      <th>2</th>\n",
              "      <td>3</td>\n",
              "      <td>1</td>\n",
              "      <td>3</td>\n",
              "      <td>Heikkinen, Miss. Laina</td>\n",
              "      <td>female</td>\n",
              "      <td>26.0</td>\n",
              "      <td>0</td>\n",
              "      <td>0</td>\n",
              "      <td>STON/O2. 3101282</td>\n",
              "      <td>7.9250</td>\n",
              "      <td>S</td>\n",
              "    </tr>\n",
              "    <tr>\n",
              "      <th>3</th>\n",
              "      <td>4</td>\n",
              "      <td>1</td>\n",
              "      <td>1</td>\n",
              "      <td>Futrelle, Mrs. Jacques Heath (Lily May Peel)</td>\n",
              "      <td>female</td>\n",
              "      <td>35.0</td>\n",
              "      <td>1</td>\n",
              "      <td>0</td>\n",
              "      <td>113803</td>\n",
              "      <td>53.1000</td>\n",
              "      <td>S</td>\n",
              "    </tr>\n",
              "    <tr>\n",
              "      <th>4</th>\n",
              "      <td>5</td>\n",
              "      <td>0</td>\n",
              "      <td>3</td>\n",
              "      <td>Allen, Mr. William Henry</td>\n",
              "      <td>male</td>\n",
              "      <td>35.0</td>\n",
              "      <td>0</td>\n",
              "      <td>0</td>\n",
              "      <td>373450</td>\n",
              "      <td>8.0500</td>\n",
              "      <td>S</td>\n",
              "    </tr>\n",
              "  </tbody>\n",
              "</table>\n",
              "</div>"
            ],
            "text/plain": [
              "   PassengerId  Survived  Pclass  ...            Ticket     Fare  Embarked\n",
              "0            1         0       3  ...         A/5 21171   7.2500         S\n",
              "1            2         1       1  ...          PC 17599  71.2833         C\n",
              "2            3         1       3  ...  STON/O2. 3101282   7.9250         S\n",
              "3            4         1       1  ...            113803  53.1000         S\n",
              "4            5         0       3  ...            373450   8.0500         S\n",
              "\n",
              "[5 rows x 11 columns]"
            ]
          },
          "metadata": {},
          "execution_count": 52
        }
      ]
    },
    {
      "cell_type": "code",
      "source": [
        "train.isnull().sum()"
      ],
      "metadata": {
        "colab": {
          "base_uri": "https://localhost:8080/"
        },
        "id": "AapNpTOlBVUX",
        "outputId": "3bb68852-50e0-4f6c-a6c8-1c48f12b78f6"
      },
      "execution_count": 72,
      "outputs": [
        {
          "output_type": "execute_result",
          "data": {
            "text/plain": [
              "PassengerId    0\n",
              "Survived       0\n",
              "Pclass         0\n",
              "Age            0\n",
              "SibSp          0\n",
              "Parch          0\n",
              "Fare           0\n",
              "male           0\n",
              "Q              0\n",
              "S              0\n",
              "dtype: int64"
            ]
          },
          "metadata": {},
          "execution_count": 72
        }
      ]
    },
    {
      "cell_type": "code",
      "metadata": {
        "colab": {
          "base_uri": "https://localhost:8080/",
          "height": 333
        },
        "id": "uAH_Ok8v6mmT",
        "outputId": "7c37326e-df40-42bd-a44b-2e1fc89ce65b"
      },
      "source": [
        "sns.heatmap(train.isnull(),yticklabels=False,cbar=False,cmap='viridis')"
      ],
      "execution_count": 53,
      "outputs": [
        {
          "output_type": "execute_result",
          "data": {
            "text/plain": [
              "<matplotlib.axes._subplots.AxesSubplot at 0x7ff01c4e9b50>"
            ]
          },
          "metadata": {},
          "execution_count": 53
        },
        {
          "output_type": "display_data",
          "data": {
            "image/png": "[encoded data removed]",
            "text/plain": [
              "<Figure size 432x288 with 1 Axes>"
            ]
          },
          "metadata": {
            "needs_background": "light"
          }
        }
      ]
    },
    {
      "cell_type": "markdown",
      "metadata": {
        "id": "ENWvLi70ZoaL"
      },
      "source": [
        "# **Great! Our data is ready for our model!**\n",
        "\n",
        "Not so bad! You might want to explore other feature engineering and the other titanic_text.csv file, some suggestions for feature engineering:\n",
        "\n",
        "* Maybe the Cabin letter could be a feature\n",
        "* Is there any info you can get from the ticket?\n"
      ]
    }
  ]
}