{
 "cells": [
  {
   "cell_type": "markdown",
   "metadata": {
    "id": "Gvbfz9_v16nb"
   },
   "source": [
    "#  MatplotLib \n",
    "\n",
    "\n",
    "\n",
    "![](https://matplotlib.org/_static/logo2_compressed.svg)\n",
    "\n",
    "https://matplotlib.org/\n",
    "\n",
    "Matplotlib is a plotting library for the Python programming language and its numerical mathematics extension NumPy. It provides an object-oriented API for embedding plots into applications using general-purpose GUI toolkits like Tkinter, wxPython, Qt, or GTK+.\n",
    "\n",
    "\n",
    "\n",
    "Some of the major Pros of Matplotlib are:\n",
    "\n",
    "* Generally easy to get started for simple plots\n",
    "* Support for custom labels and texts\n",
    "* Great control of every element in a figure\n",
    "* High-quality output in many formats\n",
    "* Very customizable in general"
   ]
  },
  {
   "cell_type": "code",
   "execution_count": 55,
   "metadata": {
    "executionInfo": {
     "elapsed": 1206,
     "status": "ok",
     "timestamp": 1609679607681,
     "user": {
      "displayName": "Abdul Adhil P K",
      "photoUrl": "https://lh3.googleusercontent.com/a-/AOh14Gj969op7M8PYnLMjRj3-NrREfeM3s4D9iQ8UR1HDg=s64",
      "userId": "16099653323688530409"
     },
     "user_tz": -330
    },
    "id": "-hVsqUN616nn"
   },
   "outputs": [],
   "source": [
    "import matplotlib.pyplot as plt\n",
    "\n",
    "%matplotlib inline  "
   ]
  },
  {
   "cell_type": "code",
   "execution_count": null,
   "metadata": {
    "id": "7RQ0CyW616np"
   },
   "outputs": [],
   "source": [
    "import numpy as np"
   ]
  },
  {
   "cell_type": "code",
   "execution_count": 56,
   "metadata": {
    "executionInfo": {
     "elapsed": 1480,
     "status": "ok",
     "timestamp": 1609679713299,
     "user": {
      "displayName": "Abdul Adhil P K",
      "photoUrl": "https://lh3.googleusercontent.com/a-/AOh14Gj969op7M8PYnLMjRj3-NrREfeM3s4D9iQ8UR1HDg=s64",
      "userId": "16099653323688530409"
     },
     "user_tz": -330
    },
    "id": "z7Q08MUE16nq"
   },
   "outputs": [],
   "source": [
    "## Simple Examples\n",
    "\n",
    "x=np.arange(0,10)\n",
    "y=np.arange(11,21)\n"
   ]
  },
  {
   "cell_type": "code",
   "execution_count": null,
   "metadata": {
    "id": "d5TQ4Zuu16nq"
   },
   "outputs": [],
   "source": [
    "a=np.arange(40,50)\n",
    "b=np.arange(50,60)\n"
   ]
  },
  {
   "cell_type": "markdown",
   "metadata": {
    "id": "zDC1X-Kd4w7B"
   },
   "source": [
    "## `plt scatter`"
   ]
  },
  {
   "cell_type": "code",
   "execution_count": 57,
   "metadata": {
    "colab": {
     "base_uri": "https://localhost:8080/",
     "height": 295
    },
    "executionInfo": {
     "elapsed": 1191,
     "status": "ok",
     "timestamp": 1609679771858,
     "user": {
      "displayName": "Abdul Adhil P K",
      "photoUrl": "https://lh3.googleusercontent.com/a-/AOh14Gj969op7M8PYnLMjRj3-NrREfeM3s4D9iQ8UR1HDg=s64",
      "userId": "16099653323688530409"
     },
     "user_tz": -330
    },
    "id": "fa8GViVT16nr",
    "outputId": "dc45e259-bd7e-46b2-e869-00739bbb80e8"
   },
   "outputs": [
    {
     "data": {
      "image/png": "[encoded data removed]",
      "text/plain": [
       "<Figure size 432x288 with 1 Axes>"
      ]
     },
     "metadata": {
      "needs_background": "light",
      "tags": []
     },
     "output_type": "display_data"
    }
   ],
   "source": [
    "plt.scatter(x, y, color='red')\n",
    "\n",
    "plt.xlabel('X axis')\n",
    "plt.ylabel('Y axis')\n",
    "\n",
    "plt.title('2D sample Graph')\n",
    "\n",
    "# saving the file\n",
    "\n",
    "plt.savefig('Test.png')\n",
    "\n"
   ]
  },
  {
   "cell_type": "markdown",
   "metadata": {
    "id": "zpwFDrMs98g2"
   },
   "source": [
    "# `plt plot`"
   ]
  },
  {
   "cell_type": "code",
   "execution_count": 59,
   "metadata": {
    "executionInfo": {
     "elapsed": 1559,
     "status": "ok",
     "timestamp": 1609679874412,
     "user": {
      "displayName": "Abdul Adhil P K",
      "photoUrl": "https://lh3.googleusercontent.com/a-/AOh14Gj969op7M8PYnLMjRj3-NrREfeM3s4D9iQ8UR1HDg=s64",
      "userId": "16099653323688530409"
     },
     "user_tz": -330
    },
    "id": "4BdDvxp2-KFE"
   },
   "outputs": [],
   "source": [
    "y = x**x"
   ]
  },
  {
   "cell_type": "code",
   "execution_count": 61,
   "metadata": {
    "colab": {
     "base_uri": "https://localhost:8080/",
     "height": 293
    },
    "executionInfo": {
     "elapsed": 1218,
     "status": "ok",
     "timestamp": 1609679884090,
     "user": {
      "displayName": "Abdul Adhil P K",
      "photoUrl": "https://lh3.googleusercontent.com/a-/AOh14Gj969op7M8PYnLMjRj3-NrREfeM3s4D9iQ8UR1HDg=s64",
      "userId": "16099653323688530409"
     },
     "user_tz": -330
    },
    "id": "P57nbqEF-XIF",
    "outputId": "d749f8ed-78da-44d1-8ede-8ddcf3ad8636"
   },
   "outputs": [
    {
     "data": {
      "text/plain": [
       "[<matplotlib.lines.Line2D at 0x7f123e25aeb8>]"
      ]
     },
     "execution_count": 61,
     "metadata": {
      "tags": []
     },
     "output_type": "execute_result"
    },
    {
     "data": {
      "image/png": "[encoded data removed]",
      "text/plain": [
       "<Figure size 432x288 with 1 Axes>"
      ]
     },
     "metadata": {
      "needs_background": "light",
      "tags": []
     },
     "output_type": "display_data"
    }
   ],
   "source": [
    "plt.plot(x, y, 'r*--')"
   ]
  },
  {
   "cell_type": "code",
   "execution_count": null,
   "metadata": {
    "colab": {
     "base_uri": "https://localhost:8080/",
     "height": 312
    },
    "executionInfo": {
     "elapsed": 2217,
     "status": "ok",
     "timestamp": 1609673668856,
     "user": {
      "displayName": "Abdul Adhil P K",
      "photoUrl": "https://lh3.googleusercontent.com/a-/AOh14Gj969op7M8PYnLMjRj3-NrREfeM3s4D9iQ8UR1HDg=s64",
      "userId": "16099653323688530409"
     },
     "user_tz": -330
    },
    "id": "MQmW5osK16nu",
    "outputId": "285fdd74-86d4-4951-9f1f-a19c4022acc9"
   },
   "outputs": [
    {
     "data": {
      "text/plain": [
       "Text(0.5, 1.0, '2d Diagram')"
      ]
     },
     "execution_count": 44,
     "metadata": {
      "tags": []
     },
     "output_type": "execute_result"
    },
    {
     "data": {
      "image/png": "[encoded data removed]",
      "text/plain": [
       "<Figure size 432x288 with 1 Axes>"
      ]
     },
     "metadata": {
      "needs_background": "light",
      "tags": []
     },
     "output_type": "display_data"
    }
   ],
   "source": [
    "\n",
    "\n",
    "plt.plot(x, y, 'r*', linestyle='dashed', linewidth=2, markersize=12)\n",
    "\n",
    "plt.xlabel('X axis')\n",
    "plt.ylabel('Y axis')\n",
    "\n",
    "plt.title('2d Diagram')"
   ]
  },
  {
   "cell_type": "code",
   "execution_count": 62,
   "metadata": {
    "colab": {
     "base_uri": "https://localhost:8080/",
     "height": 295
    },
    "executionInfo": {
     "elapsed": 1299,
     "status": "ok",
     "timestamp": 1609680082312,
     "user": {
      "displayName": "Abdul Adhil P K",
      "photoUrl": "https://lh3.googleusercontent.com/a-/AOh14Gj969op7M8PYnLMjRj3-NrREfeM3s4D9iQ8UR1HDg=s64",
      "userId": "16099653323688530409"
     },
     "user_tz": -330
    },
    "id": "Ii2OMBOY16nw",
    "outputId": "6d5ec75f-dbdc-4f3b-e25d-8ab8987aba9a"
   },
   "outputs": [
    {
     "data": {
      "image/png": "[encoded data removed]",
      "text/plain": [
       "<Figure size 432x288 with 1 Axes>"
      ]
     },
     "metadata": {
      "needs_background": "light",
      "tags": []
     },
     "output_type": "display_data"
    }
   ],
   "source": [
    "x = np.arange(1,11) \n",
    "y = (3 * x) + 5 \n",
    "\n",
    "plt.title(\"Matplotlib   Linear\") \n",
    "\n",
    "plt.xlabel(\"x axis caption\") \n",
    "plt.ylabel(\"y axis caption\")\n",
    "\n",
    "plt.plot(x,y) \n",
    "plt.show()"
   ]
  },
  {
   "cell_type": "markdown",
   "metadata": {
    "id": "cUMwHTUl-_FE"
   },
   "source": [
    "## Creating Subplots using `plt.subplot`"
   ]
  },
  {
   "cell_type": "code",
   "execution_count": null,
   "metadata": {
    "colab": {
     "base_uri": "https://localhost:8080/",
     "height": 282
    },
    "executionInfo": {
     "elapsed": 3042,
     "status": "ok",
     "timestamp": 1609673669698,
     "user": {
      "displayName": "Abdul Adhil P K",
      "photoUrl": "https://lh3.googleusercontent.com/a-/AOh14Gj969op7M8PYnLMjRj3-NrREfeM3s4D9iQ8UR1HDg=s64",
      "userId": "16099653323688530409"
     },
     "user_tz": -330
    },
    "id": "hJUZJ_g516nv",
    "outputId": "94eb4fcf-254a-410c-dea3-213c27e4f69f"
   },
   "outputs": [
    {
     "data": {
      "text/plain": [
       "[<matplotlib.lines.Line2D at 0x7f123e40cf60>]"
      ]
     },
     "execution_count": 46,
     "metadata": {
      "tags": []
     },
     "output_type": "execute_result"
    },
    {
     "data": {
      "image/png": "[encoded data removed]",
      "text/plain": [
       "<Figure size 432x288 with 4 Axes>"
      ]
     },
     "metadata": {
      "needs_background": "light",
      "tags": []
     },
     "output_type": "display_data"
    }
   ],
   "source": [
    "\n",
    "\n",
    "plt.subplot(2,2,1)\n",
    "plt.plot(x,y,'r--')\n",
    "\n",
    "plt.subplot(2,2,2)\n",
    "plt.plot(x,y,'g*')\n",
    "\n",
    "plt.subplot(2,2,3)\n",
    "plt.plot(x,y,'bo')\n",
    "\n",
    "plt.subplot(2,2,4)\n",
    "plt.plot(x,y,'g--')\n"
   ]
  },
  {
   "cell_type": "code",
   "execution_count": null,
   "metadata": {
    "colab": {
     "base_uri": "https://localhost:8080/"
    },
    "executionInfo": {
     "elapsed": 3037,
     "status": "ok",
     "timestamp": 1609673669699,
     "user": {
      "displayName": "Abdul Adhil P K",
      "photoUrl": "https://lh3.googleusercontent.com/a-/AOh14Gj969op7M8PYnLMjRj3-NrREfeM3s4D9iQ8UR1HDg=s64",
      "userId": "16099653323688530409"
     },
     "user_tz": -330
    },
    "id": "AgMZAz0716nx",
    "outputId": "79e6f561-1125-446b-8f69-72642a0a247a"
   },
   "outputs": [
    {
     "data": {
      "text/plain": [
       "3.141592653589793"
      ]
     },
     "execution_count": 47,
     "metadata": {
      "tags": []
     },
     "output_type": "execute_result"
    }
   ],
   "source": [
    "np.pi"
   ]
  },
  {
   "cell_type": "code",
   "execution_count": 67,
   "metadata": {
    "colab": {
     "base_uri": "https://localhost:8080/",
     "height": 281
    },
    "executionInfo": {
     "elapsed": 1566,
     "status": "ok",
     "timestamp": 1609680261093,
     "user": {
      "displayName": "Abdul Adhil P K",
      "photoUrl": "https://lh3.googleusercontent.com/a-/AOh14Gj969op7M8PYnLMjRj3-NrREfeM3s4D9iQ8UR1HDg=s64",
      "userId": "16099653323688530409"
     },
     "user_tz": -330
    },
    "id": "aDMx0mud16ny",
    "outputId": "fd0681ae-6ddb-4285-d612-ff7b20f8f864"
   },
   "outputs": [
    {
     "data": {
      "image/png": "[encoded data removed]",
      "text/plain": [
       "<Figure size 432x288 with 1 Axes>"
      ]
     },
     "metadata": {
      "needs_background": "light",
      "tags": []
     },
     "output_type": "display_data"
    }
   ],
   "source": [
    "# Compute the x and y coordinates for points on a sine curve \n",
    "\n",
    "x = np.arange(0, 4 * np.pi, 0.1) \n",
    "y = np.cos(x) \n",
    "plt.title(\"sine wave form\") \n",
    "\n",
    "# Plot the points using matplotlib \n",
    "\n",
    "plt.plot(x, y) \n",
    "plt.show() "
   ]
  },
  {
   "cell_type": "markdown",
   "metadata": {
    "id": "NUwyjfZdfMJM"
   },
   "source": [
    "`np.arange` [documentation](https://numpy.org/doc/stable/reference/generated/numpy.arange.html)"
   ]
  },
  {
   "cell_type": "code",
   "execution_count": null,
   "metadata": {
    "colab": {
     "base_uri": "https://localhost:8080/",
     "height": 281
    },
    "executionInfo": {
     "elapsed": 3981,
     "status": "ok",
     "timestamp": 1609673670659,
     "user": {
      "displayName": "Abdul Adhil P K",
      "photoUrl": "https://lh3.googleusercontent.com/a-/AOh14Gj969op7M8PYnLMjRj3-NrREfeM3s4D9iQ8UR1HDg=s64",
      "userId": "16099653323688530409"
     },
     "user_tz": -330
    },
    "id": "kEV74Egr16nz",
    "outputId": "3d6f77c1-5c05-454f-848f-ba2fd9159fdf"
   },
   "outputs": [
    {
     "data": {
      "image/png": "[encoded data removed]",
      "text/plain": [
       "<Figure size 432x288 with 2 Axes>"
      ]
     },
     "metadata": {
      "needs_background": "light",
      "tags": []
     },
     "output_type": "display_data"
    }
   ],
   "source": [
    "# Compute the x and y coordinates for points on sine and cosine curves \n",
    "\n",
    "x = np.arange(0, 5 * np.pi, 0.1) \n",
    "y_sin = np.sin(x) \n",
    "y_cos = np.cos(x)  \n",
    "   \n",
    "# Set up a subplot grid that has height 2 and width 1, \n",
    "# and set the first such subplot as active. \n",
    "\n",
    "plt.subplot(2, 1, 1)\n",
    "   \n",
    "# Make the first plot \n",
    "\n",
    "plt.plot(x, y_sin,'r--') \n",
    "plt.title('Sine')  \n",
    "   \n",
    "# Set the second subplot as active, and make the second plot.\n",
    " \n",
    "plt.subplot(2, 1, 2) \n",
    "plt.plot(x, y_cos,'g--') \n",
    "plt.title('Cosine')  \n",
    "   \n",
    "# Show the figure. \n",
    "plt.show()"
   ]
  },
  {
   "cell_type": "markdown",
   "metadata": {
    "id": "SDVNIwL_lN86"
   },
   "source": [
    "# `plt.bar` Bar plot \n",
    "(seaborn is better for barplot)"
   ]
  },
  {
   "cell_type": "code",
   "execution_count": null,
   "metadata": {
    "colab": {
     "base_uri": "https://localhost:8080/",
     "height": 295
    },
    "executionInfo": {
     "elapsed": 3973,
     "status": "ok",
     "timestamp": 1609673670660,
     "user": {
      "displayName": "Abdul Adhil P K",
      "photoUrl": "https://lh3.googleusercontent.com/a-/AOh14Gj969op7M8PYnLMjRj3-NrREfeM3s4D9iQ8UR1HDg=s64",
      "userId": "16099653323688530409"
     },
     "user_tz": -330
    },
    "id": "rqESRc1816nz",
    "outputId": "7676e398-242b-4d0e-9ccb-d1ca1a2dfbfb"
   },
   "outputs": [
    {
     "data": {
      "image/png": "[encoded data removed]",
      "text/plain": [
       "<Figure size 432x288 with 1 Axes>"
      ]
     },
     "metadata": {
      "needs_background": "light",
      "tags": []
     },
     "output_type": "display_data"
    }
   ],
   "source": [
    "x = [2,8,10] \n",
    "y = [11,16,9]  \n",
    "\n",
    "x2 = [3,9,11] \n",
    "y2 = [6,15,7] \n",
    "\n",
    "plt.bar(x, y) \n",
    "plt.bar(x2, y2, color = 'red') \n",
    "\n",
    "plt.title('Bar graph') \n",
    "plt.ylabel('Y axis') \n",
    "plt.xlabel('X axis')  \n",
    "\n",
    "plt.show()"
   ]
  },
  {
   "cell_type": "markdown",
   "metadata": {
    "id": "61HHlgIp16n0"
   },
   "source": [
    "# `plt.hist` Histograms\n",
    "\n",
    "Gives the density or counts of the input"
   ]
  },
  {
   "cell_type": "code",
   "execution_count": 68,
   "metadata": {
    "colab": {
     "base_uri": "https://localhost:8080/",
     "height": 281
    },
    "executionInfo": {
     "elapsed": 1185,
     "status": "ok",
     "timestamp": 1609680538642,
     "user": {
      "displayName": "Abdul Adhil P K",
      "photoUrl": "https://lh3.googleusercontent.com/a-/AOh14Gj969op7M8PYnLMjRj3-NrREfeM3s4D9iQ8UR1HDg=s64",
      "userId": "16099653323688530409"
     },
     "user_tz": -330
    },
    "id": "PTJHbdd116n1",
    "outputId": "8f029845-f773-41fc-b918-a670920afc99"
   },
   "outputs": [
    {
     "data": {
      "image/png": "[encoded data removed]",
      "text/plain": [
       "<Figure size 432x288 with 1 Axes>"
      ]
     },
     "metadata": {
      "needs_background": "light",
      "tags": []
     },
     "output_type": "display_data"
    }
   ],
   "source": [
    "a = np.array([22,87,5,43,56,73,55,54,11,20,51,5,79,31,27]) \n",
    "plt.hist(a, bins=20) \n",
    "\n",
    "plt.title(\"histogram\") \n",
    "plt.show()"
   ]
  },
  {
   "cell_type": "markdown",
   "metadata": {
    "id": "qGkf9nv916n1"
   },
   "source": [
    "## Box Plot using Matplotlib"
   ]
  },
  {
   "cell_type": "code",
   "execution_count": 70,
   "metadata": {
    "colab": {
     "base_uri": "https://localhost:8080/",
     "height": 265
    },
    "executionInfo": {
     "elapsed": 1204,
     "status": "ok",
     "timestamp": 1609680785578,
     "user": {
      "displayName": "Abdul Adhil P K",
      "photoUrl": "https://lh3.googleusercontent.com/a-/AOh14Gj969op7M8PYnLMjRj3-NrREfeM3s4D9iQ8UR1HDg=s64",
      "userId": "16099653323688530409"
     },
     "user_tz": -330
    },
    "id": "Me7Awgjb16n2",
    "outputId": "bf7b9e89-023c-4d4c-dc19-11794887eac0"
   },
   "outputs": [
    {
     "data": {
      "image/png": "[encoded data removed]",
      "text/plain": [
       "<Figure size 432x288 with 1 Axes>"
      ]
     },
     "metadata": {
      "needs_background": "light",
      "tags": []
     },
     "output_type": "display_data"
    }
   ],
   "source": [
    "data = [np.random.normal(0, std, 100) for std in range(1, 5)]\n",
    "\n",
    "# rectangular box plot\n",
    "\n",
    "plt.boxplot(data, vert=True, patch_artist=True);  "
   ]
  },
  {
   "cell_type": "code",
   "execution_count": 69,
   "metadata": {
    "colab": {
     "base_uri": "https://localhost:8080/",
     "height": 265
    },
    "executionInfo": {
     "elapsed": 1275,
     "status": "ok",
     "timestamp": 1609680769772,
     "user": {
      "displayName": "Abdul Adhil P K",
      "photoUrl": "https://lh3.googleusercontent.com/a-/AOh14Gj969op7M8PYnLMjRj3-NrREfeM3s4D9iQ8UR1HDg=s64",
      "userId": "16099653323688530409"
     },
     "user_tz": -330
    },
    "id": "9o12490VczOS",
    "outputId": "9153bbdc-cf73-4b2a-ffe8-69c87fa2d10b"
   },
   "outputs": [
    {
     "data": {
      "image/png": "[encoded data removed]",
      "text/plain": [
       "<Figure size 432x288 with 1 Axes>"
      ]
     },
     "metadata": {
      "needs_background": "light",
      "tags": []
     },
     "output_type": "display_data"
    }
   ],
   "source": [
    "plt.boxplot(data, vert=False, patch_artist=False);  "
   ]
  },
  {
   "cell_type": "code",
   "execution_count": null,
   "metadata": {
    "colab": {
     "base_uri": "https://localhost:8080/"
    },
    "executionInfo": {
     "elapsed": 3956,
     "status": "ok",
     "timestamp": 1609673670665,
     "user": {
      "displayName": "Abdul Adhil P K",
      "photoUrl": "https://lh3.googleusercontent.com/a-/AOh14Gj969op7M8PYnLMjRj3-NrREfeM3s4D9iQ8UR1HDg=s64",
      "userId": "16099653323688530409"
     },
     "user_tz": -330
    },
    "id": "64SfdSlR16n3",
    "outputId": "809a2db3-afee-4c32-df62-c98dddb60acb"
   },
   "outputs": [
    {
     "data": {
      "text/plain": [
       "list"
      ]
     },
     "execution_count": 53,
     "metadata": {
      "tags": []
     },
     "output_type": "execute_result"
    }
   ],
   "source": [
    "type(data)"
   ]
  },
  {
   "cell_type": "markdown",
   "metadata": {
    "id": "dkWdgP3xp7o6"
   },
   "source": [
    "`np.boxplot` [documentation](https://matplotlib.org/3.1.1/api/_as_gen/matplotlib.pyplot.boxplot.html)\n",
    "\n",
    "\n"
   ]
  },
  {
   "cell_type": "markdown",
   "metadata": {
    "id": "osPl01dI16n4"
   },
   "source": [
    "## Pie Chart"
   ]
  },
  {
   "cell_type": "code",
   "execution_count": 76,
   "metadata": {
    "colab": {
     "base_uri": "https://localhost:8080/",
     "height": 248
    },
    "executionInfo": {
     "elapsed": 1398,
     "status": "ok",
     "timestamp": 1609681052677,
     "user": {
      "displayName": "Abdul Adhil P K",
      "photoUrl": "https://lh3.googleusercontent.com/a-/AOh14Gj969op7M8PYnLMjRj3-NrREfeM3s4D9iQ8UR1HDg=s64",
      "userId": "16099653323688530409"
     },
     "user_tz": -330
    },
    "id": "sgN-k6HN16n4",
    "outputId": "31f0f4b7-f2bf-4160-a5b4-956447d16a35"
   },
   "outputs": [
    {
     "data": {
      "image/png": "[encoded data removed]",
      "text/plain": [
       "<Figure size 432x288 with 1 Axes>"
      ]
     },
     "metadata": {
      "tags": []
     },
     "output_type": "display_data"
    }
   ],
   "source": [
    "# Data to plot\n",
    "labels = ['Python', 'C++', 'Ruby', 'Java']\n",
    "sizes = [215, 130, 245, 210]\n",
    "colors = ['gold', 'yellowgreen', 'lightcoral', 'lightskyblue']\n",
    "explode = (0.2, 0, 0.1, 0)  # explode 1st slice\n",
    "\n",
    "# Plot\n",
    "plt.pie(sizes, explode=explode, labels=labels, colors=colors,\n",
    "autopct='%3.1f%%', shadow=True)\n",
    "\n",
    "plt.axis('equal')\n",
    "plt.show()"
   ]
  },
  {
   "cell_type": "markdown",
   "metadata": {
    "id": "A9yq7tVRqLvw"
   },
   "source": [
    "`np.boxplot` [documentation](https://matplotlib.org/3.1.1/api/_as_gen/matplotlib.pyplot.pie.html#matplotlib.pyplot.pie)\n",
    "\n",
    "\n"
   ]
  }
 ],
 "metadata": {
  "colab": {
   "collapsed_sections": [],
   "name": "Matplotlib.ipynb",
   "provenance": []
  },
  "kernelspec": {
   "display_name": "Python 3 (ipykernel)",
   "language": "python",
   "name": "python3"
  },
  "language_info": {
   "codemirror_mode": {
    "name": "ipython",
    "version": 3
   },
   "file_extension": ".py",
   "mimetype": "text/x-python",
   "name": "python",
   "nbconvert_exporter": "python",
   "pygments_lexer": "ipython3",
   "version": "3.8.10"
  }
 },
 "nbformat": 4,
 "nbformat_minor": 1
}
